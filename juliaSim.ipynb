{
 "cells": [
  {
   "cell_type": "code",
   "execution_count": 1,
   "metadata": {},
   "outputs": [
    {
     "data": {
      "text/plain": [
       "PyObject <module 'python_util' from '/Users/mgrecu/NewFrameworks/eddgn_jacobian/python_util.py'>"
      ]
     },
     "execution_count": 1,
     "metadata": {},
     "output_type": "execute_result"
    }
   ],
   "source": [
    "using PyCall\n",
    "# push local path to python path\n",
    "pushfirst!(PyVector(pyimport(\"sys\")[\"path\"]), \"\")\n",
    "#lkTable=pyimport(\"lkTables\")\n",
    "py_util=pyimport(\"python_util\")"
   ]
  },
  {
   "cell_type": "code",
   "execution_count": 2,
   "metadata": {},
   "outputs": [],
   "source": [
    "#println(py_util.lookupT.dmr)\n",
    "fname=\"/Users/mgrecu/GPM/ORO_old/2A-CS/2B-CS-CONUS.GPM.DPRGMI.CORRA2022.20190502-S100527-E101407.029398.V07A.HDF5\"\n",
    "qv,press,envNodes,airTemp,skTemp,binNodes,pwc,sfcEmiss,dm,cldw,sfcBin,zCorrected,pType,lon,lat=py_util.readCMB(fname);\n",
    " "
   ]
  },
  {
   "cell_type": "code",
   "execution_count": 12,
   "metadata": {},
   "outputs": [],
   "source": [
    "nt=size(zCorrected)[1]\n",
    "#kext_gases=np.zeros((nt,49,78,8))\n",
    "#temp_layer=np.zeros((nt,49,79))\n",
    "np=pyimport(\"numpy\")\n",
    "freqs=[10.65,18.7,23.8,37.0,89.0,166,183.3+3,183.3+7]\n",
    "hFreqs=[1,1,2,2,3,4,4,5,5,6,6,7,7]\n",
    "gFreqs=[1,1,2,2,3,4,4,5,5,6,6,7,8]\n",
    "kext_atm=np.zeros((nt,49,79,8))\n",
    "for i in 1:nt\n",
    "    for j in 1:49\n",
    "        n5=envNodes[i,j,:]\n",
    "        press1d=np.interp(10:88,n5,press[i,j,:])\n",
    "        qv1d=np.interp(10:88,n5,qv[i,j,:])\n",
    "        temp1d=np.interp(10:88,n5,airTemp[i,j,:])\n",
    "        temp_layer1d=np.interp(np.arange(9.5,88.5,1),n5,airTemp[i,j,:])\n",
    "        qv1d[qv1d.<1e-3].=1e-3\n",
    "        rho1d=press1d./(287.05*temp1d)*1e2\n",
    "        ireturn=0\n",
    "        rhowv1d=rho1d.*qv1d.*1e-3\n",
    "        press1d_pa=press1d.*1e2\n",
    "        kext = py_util.rt.get_wv_extinction(freqs,temp1d,rhowv1d,press1d_pa)\n",
    "        kext_atm[i,j,:,:]=kext';\n",
    "    end\n",
    "end\n",
    "      "
   ]
  },
  {
   "cell_type": "code",
   "execution_count": 18,
   "metadata": {},
   "outputs": [
    {
     "name": "stdout",
     "output_type": "stream",
     "text": [
      "4"
     ]
    }
   ],
   "source": [
    "\n",
    "ind=find_closest(x,xv);\n",
    "print(ind)"
   ]
  },
  {
   "cell_type": "code",
   "execution_count": 38,
   "metadata": {},
   "outputs": [
    {
     "name": "stdout",
     "output_type": "stream",
     "text": [
      "743\n"
     ]
    }
   ],
   "source": [
    "\n",
    "# Assuming nt, a, pwc, binNodes, dm, pType, lookupT, sfcBin are defined and initialized\n",
    "\n",
    "kext3d = zeros(Float64, nt, 49, 88, 7)\n",
    "salb3d = zeros(Float64, nt, 49, 88, 7)\n",
    "asym3d = zeros(Float64, nt, 49, 88, 7)\n",
    "iwp = zeros(Float64, nt, 49)\n",
    "rwp = zeros(Float64, nt, 49)\n",
    "\n",
    "function bisectm(xvec, r)\n",
    "    n = length(xvec)\n",
    "    if r <= xvec[1]\n",
    "        return 1\n",
    "    elseif r >= xvec[n]\n",
    "        return n\n",
    "    end\n",
    "    \n",
    "    low, high = 1, n\n",
    "    while low <= high\n",
    "        mid = div(low + high, 2)\n",
    "        if xvec[mid] == r\n",
    "            return mid\n",
    "        elseif xvec[mid] < r\n",
    "            low = mid + 1\n",
    "        else\n",
    "            high = mid - 1\n",
    "        end\n",
    "    end\n",
    "    \n",
    "    if abs(xvec[low] - r) < abs(xvec[high] - r)\n",
    "        return low\n",
    "    else\n",
    "        return high\n",
    "    end\n",
    "end\n",
    "println(nt)\n"
   ]
  },
  {
   "cell_type": "code",
   "execution_count": 35,
   "metadata": {},
   "outputs": [
    {
     "name": "stdout",
     "output_type": "stream",
     "text": [
      "16.846258\n",
      "\n",
      "3554 36407\n",
      "0.0 0.0\n"
     ]
    }
   ],
   "source": [
    "println(maximum(pwc))\n",
    "icount=0\n",
    "for i in 1:nt\n",
    "    for j in 1:49\n",
    "        pwc1 = pwc[i, j, :]\n",
    "        a0 = findall(pwc1.>0)\n",
    "        if length(a0) == 0\n",
    "            continue\n",
    "        end\n",
    "        icount+=1\n",
    "    end\n",
    "end\n",
    "println()\n",
    "println(icount, \" \", nt*49)\n",
    "println(maximum(iwp), \" \", maximum(rwp))\n"
   ]
  },
  {
   "cell_type": "code",
   "execution_count": 43,
   "metadata": {},
   "outputs": [],
   "source": [
    "lookupT=py_util.lookupT\n",
    "kext_rain=zeros(Float64,7)\n",
    "salb_rain=zeros(Float64,7)\n",
    "asym_rain=zeros(Float64,7)\n",
    "for i in 1:nt\n",
    "    for j in 1:49\n",
    "        pwc1 = pwc[i, j, :]\n",
    "        a0 = findall(pwc1.>0)\n",
    "        for k in a0\n",
    "            dm1 = dm[i, j, k]\n",
    "            if k <= binNodes[i, j, 4]\n",
    "                iphase = 0\n",
    "                if pType[i, j] != 2\n",
    "                    ind = bisectm(lookupT.dms, dm1)\n",
    "                    dns = log10(pwc[i, j, k] / lookupT.swc[ind])\n",
    "                    kext_snow = lookupT.kextS[ind, :] .* 10^dns\n",
    "                    salb_snow = lookupT.salbS[ind, :]\n",
    "                    asym_snow = lookupT.asymS[ind, :]\n",
    "                else\n",
    "                    ind = bisectm(lookupT.dmg.data, dm1)\n",
    "                    dng = log10(pwc[i, j, k] / lookupT.gwc[ind])\n",
    "                    kext_snow = lookupT.kextG[ind, :] .* 10^dng\n",
    "                    salb_snow = lookupT.salbG[ind, :]\n",
    "                    asym_snow = lookupT.asymG[ind, :]\n",
    "                end\n",
    "            end\n",
    "\n",
    "            if k > binNodes[i, j, 2]\n",
    "                ind = bisectm(lookupT.dmr, dm1)\n",
    "                dnr = log10(pwc[i, j, k] / lookupT.rwc[ind])\n",
    "                kext_rain = lookupT.kextR[ind, :] .* 10^dnr\n",
    "                salb_rain = lookupT.salbR[ind, :]\n",
    "                asym_rain = lookupT.asymR[ind, :]\n",
    "            end\n",
    "        \n",
    "            if k <= binNodes[i, j, 2]\n",
    "                kext = kext_snow\n",
    "                salb = salb_snow\n",
    "                asym = asym_snow\n",
    "            else\n",
    "                if k < binNodes[i, j, 4]\n",
    "                    f = (k - binNodes[i, j, 2]) / (binNodes[i, j, 4] - binNodes[i, j, 2])\n",
    "                    kext = kext_snow .* (1 - f) + kext_rain .* f\n",
    "                    salb = (salb_snow .* (1 - f) .* kext_snow + salb_rain .* f .* kext_rain)\n",
    "                    asym = (asym_snow .* (1 - f) .* kext_snow .* asym_snow + asym_rain .* f .* kext_rain .* asym_rain) ./ salb\n",
    "                    salb = salb ./ kext\n",
    "                else\n",
    "                    kext = kext_rain\n",
    "                    salb = salb_rain\n",
    "                    asym = asym_rain\n",
    "                end\n",
    "            end\n",
    "        \n",
    "            kext3d[i, j, k, :] = kext\n",
    "            salb3d[i, j, k, :] = salb\n",
    "            asym3d[i, j, k, :] = asym\n",
    "        \n",
    "            if k == a0[end]\n",
    "                for k1 in k+1:88\n",
    "                    kext3d[i, j, k1, :] = kext_rain\n",
    "                    salb3d[i, j, k1, :] = salb_rain\n",
    "                    asym3d[i, j, k1, :] = asym_rain\n",
    "                end\n",
    "            #    kext3d[i, j, k+1:end, :] .= kext_rain\n",
    "            #    salb3d[i, j, k+1:end, :] .= salb_rain\n",
    "            #    asym3d[i, j, k+1:end, :] .= asym_rain\n",
    "            #    if pwc1[k] == pwc1[k] && sfcBin[i, j, 1] == sfcBin[i, j, 1]\n",
    "            #        if k >= binNodes[i, j, 3]\n",
    "            #            rwp[i, j] += pwc1[k] * 0.25 * (sfcBin[i, j, 1] - k)\n",
    "            #        else\n",
    "            #            iwp[i, j] += pwc1[k] * 0.25 * (sfcBin[i, j, 1] - k)\n",
    "            #        end\n",
    "            #    end\n",
    "            end\n",
    "        end\n",
    "    end\n",
    "end\n"
   ]
  },
  {
   "cell_type": "code",
   "execution_count": 24,
   "metadata": {},
   "outputs": [
    {
     "name": "stdout",
     "output_type": "stream",
     "text": [
      "1.503021"
     ]
    }
   ],
   "source": [
    "\n",
    "find_closest(py_util.lookupT.dmr,1.5)\n",
    "print(py_util.lookupT.dmr[198])"
   ]
  },
  {
   "cell_type": "code",
   "execution_count": 65,
   "metadata": {},
   "outputs": [
    {
     "data": {
      "image/png": "[encoded data removed]",
      "text/plain": [
       "Figure(PyObject <Figure size 640x480 with 1 Axes>)"
      ]
     },
     "metadata": {},
     "output_type": "display_data"
    },
    {
     "data": {
      "text/plain": [
       "PyObject <matplotlib.collections.QuadMesh object at 0x1650e99c0>"
      ]
     },
     "execution_count": 65,
     "metadata": {},
     "output_type": "execute_result"
    }
   ],
   "source": [
    "using PyPlot\n",
    "mplt=pyimport(\"matplotlib.pyplot\")\n",
    "mcolors=pyimport(\"matplotlib.colors\")\n",
    "#plt=pyimport(\"matplotlib.pyplot\")\n",
    "plt.pcolormesh(kext3d[:,25,end:-1:1,4]',norm=mcolors.LogNorm(vmin=1e-5,vmax=1e-1),cmap=\"jet\")\n",
    "#xlim(500,600)\n",
    "#ylim(0,45)"
   ]
  },
  {
   "cell_type": "code",
   "execution_count": 7,
   "metadata": {},
   "outputs": [
    {
     "data": {
      "image/png": "[encoded data removed]",
      "text/plain": [
       "Figure(PyObject <Figure size 640x480 with 1 Axes>)"
      ]
     },
     "metadata": {},
     "output_type": "display_data"
    },
    {
     "data": {
      "text/plain": [
       "PyObject <matplotlib.collections.QuadMesh object at 0x30372fb20>"
      ]
     },
     "execution_count": 7,
     "metadata": {},
     "output_type": "execute_result"
    }
   ],
   "source": [
    "#using PyPlot\n",
    "#pcolormesh(zCorrected[:,25,end:-1:1,1]',cmap=\"jet\",vmin=0,vmax=40)"
   ]
  }
 ],
 "metadata": {
  "kernelspec": {
   "display_name": "Julia 1.10.4",
   "language": "julia",
   "name": "julia-1.10"
  },
  "language_info": {
   "file_extension": ".jl",
   "mimetype": "application/julia",
   "name": "julia",
   "version": "1.10.4"
  }
 },
 "nbformat": 4,
 "nbformat_minor": 2
}
